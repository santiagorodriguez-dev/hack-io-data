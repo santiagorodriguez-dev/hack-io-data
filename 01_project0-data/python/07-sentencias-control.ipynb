{
 "cells": [
  {
   "cell_type": "markdown",
   "metadata": {},
   "source": [
    "<div style=\"text-align: center;\">\n",
    "  <img src=\"https://github.com/Hack-io-Data/Imagenes/blob/main/01-LogosHackio/logo_celeste@4x.png?raw=true\" alt=\"logo hack(io)\" />\n",
    "</div>"
   ]
  },
  {
   "cell_type": "markdown",
   "metadata": {},
   "source": [
    "#### 1. Escribe un programa que determine si un número es par o impar.\n",
    "\n"
   ]
  },
  {
   "cell_type": "code",
   "execution_count": 1,
   "metadata": {},
   "outputs": [
    {
     "name": "stdout",
     "output_type": "stream",
     "text": [
      "El numero es Impar\n"
     ]
    }
   ],
   "source": [
    "numeroInput = input(\"Por favor, ingresa un numero para determinar si es par o no: \")\n",
    "\n",
    "try:\n",
    "    if int(numeroInput) % 2 == 0:\n",
    "        print(f\"El numero es par\")\n",
    "    else:\n",
    "        print(f\"El numero es Impar\")\n",
    "\n",
    "except:\n",
    "  print(\"El caracter introducido no es numerico\")\n"
   ]
  },
  {
   "cell_type": "markdown",
   "metadata": {},
   "source": [
    "#### 2. Genera un programa que nos diga si es de noche, de día o tarde según la hora proporcionada por el usuario."
   ]
  },
  {
   "cell_type": "code",
   "execution_count": 2,
   "metadata": {},
   "outputs": [
    {
     "name": "stdout",
     "output_type": "stream",
     "text": [
      "Es de noche\n"
     ]
    }
   ],
   "source": [
    "horaInput = input(\"Por favor, introduce una hora en formato 24h: ejemplo la una de la tarde es (13)\")\n",
    "\n",
    "# premisa mañana de 7 a 11 Horas\n",
    "# premisa tarde de 12 a 21 Horas\n",
    "# premisa noche de 22 a 6 Horas\n",
    "\n",
    "try:\n",
    "    if int(horaInput) >= 7 and int(horaInput) <= 11 :\n",
    "        print(f\"es de dia\")\n",
    "    elif int(horaInput) >= 12 and int(horaInput) <= 21 :\n",
    "        print(f\"es tarde\")\n",
    "    else:\n",
    "        print(f\"Es de noche\")\n",
    "\n",
    "except:\n",
    "  print(\"El caracter introducido no es una hora correcta\")"
   ]
  },
  {
   "cell_type": "markdown",
   "metadata": {},
   "source": [
    "#### 3. Dado un nombre imprime un saludo personalizado."
   ]
  },
  {
   "cell_type": "code",
   "execution_count": 3,
   "metadata": {},
   "outputs": [
    {
     "name": "stdout",
     "output_type": "stream",
     "text": [
      "Hola Santi ¿En que puedo ayudarte?\n"
     ]
    }
   ],
   "source": [
    "nombreInput = input(\"Por favor, introduce tu nombre\")\n",
    "\n",
    "try:\n",
    "    if not nombreInput.isspace():\n",
    "        print(f\"Hola\", nombreInput.capitalize(), \"¿En que puedo ayudarte?\")\n",
    "    else:\n",
    "       print(\"introduce algun valor\")\n",
    "except:\n",
    "  print(\"error en la introducion de datos\")"
   ]
  },
  {
   "cell_type": "markdown",
   "metadata": {},
   "source": [
    "#### 4. Escribe un programa que determine qué calificación en texto tiene un alumno en base a su calificación numérica. Las reglas de calificación son: \n",
    "\n",
    "- 0 - 69 insuficiente\n",
    "\n",
    "- 70 - 79 bien\n",
    "\n",
    "- 80 - 89 muy bien\n",
    "\n",
    "- 90 - 100 excelente\n"
   ]
  },
  {
   "cell_type": "code",
   "execution_count": 4,
   "metadata": {},
   "outputs": [
    {
     "name": "stdout",
     "output_type": "stream",
     "text": [
      "0 - 69 insuficiente\n"
     ]
    }
   ],
   "source": [
    "notaInput = input(\"Por favor, introduce la calificacion, valores correctos (0-100)\")\n",
    "\n",
    "try:\n",
    "    if int(notaInput) >= 0 and int(notaInput) <= 69 :\n",
    "        print(f\"0 - 69 insuficiente\")\n",
    "    elif int(notaInput) >= 70 and int(notaInput) <= 79 :\n",
    "        print(f\"70 - 79 bien\")\n",
    "    elif int(notaInput) >= 80 and int(notaInput) <= 89 :\n",
    "        print(f\"80 - 89 muy bien\")\n",
    "    elif int(notaInput) >= 90 and int(notaInput) <= 100 :\n",
    "        print(f\"90 - 100 excelente\")\n",
    "    else:\n",
    "        print(f\"Nota fuera del rango valido (0-100)\")\n",
    "\n",
    "except:\n",
    "  print(\"Error El caracter introducido no es un numero correcto, rango valido (0-100)\")"
   ]
  },
  {
   "cell_type": "markdown",
   "metadata": {},
   "source": [
    "#### 5. Escribe un programa que imprima el día de la semana, dado un número del 1 al 7.\n"
   ]
  },
  {
   "cell_type": "code",
   "execution_count": 5,
   "metadata": {},
   "outputs": [
    {
     "name": "stdout",
     "output_type": "stream",
     "text": [
      "El dia de la semana es sabado\n"
     ]
    }
   ],
   "source": [
    "diaInput = input(\"Por favor, introduce el día de la semana, dado un número del 1 al 7\")\n",
    "\n",
    "try:\n",
    "    if int(diaInput) == 1:\n",
    "        print(f\"El dia de la semana es lunes\")\n",
    "    elif int(diaInput) == 2:\n",
    "        print(f\"El dia de la semana es martes\")\n",
    "    elif int(diaInput) == 3:\n",
    "        print(f\"El dia de la semana es miercoles\")\n",
    "    elif int(diaInput) == 4:\n",
    "        print(f\"El dia de la semana es jueves\")\n",
    "    elif int(diaInput) == 5:\n",
    "        print(f\"El dia de la semana es viernes\")\n",
    "    elif int(diaInput) == 6:\n",
    "        print(f\"El dia de la semana es sabado\")\n",
    "    elif int(diaInput) == 7:\n",
    "        print(f\"El dia de la semana es domingo\")\n",
    "    else:\n",
    "        print(f\"dia fuera de rango (1-7)\")\n",
    "\n",
    "except:\n",
    "  print(\"Error El caracter introducido no es un numero correcto, dia fuera de rango (1-7)\")"
   ]
  },
  {
   "cell_type": "markdown",
   "metadata": {},
   "source": [
    "#### 6. Escribe un programa que determine si un número es positivo, negativo o cero."
   ]
  },
  {
   "cell_type": "code",
   "execution_count": 6,
   "metadata": {},
   "outputs": [
    {
     "name": "stdout",
     "output_type": "stream",
     "text": [
      "El numero es negativo\n"
     ]
    }
   ],
   "source": [
    "numInput = input(\"Por favor, introduce el numero para averiguar si 0, positivo o negativo (soporta decimales, 50.99 , -5.8)\")\n",
    "\n",
    "try:\n",
    "    if float(numInput) == 0:\n",
    "        print(f\"El numero es cero\")\n",
    "    elif float(numInput) < 0:\n",
    "        print(f\"El numero es negativo\")\n",
    "    else:\n",
    "        print(f\"el numero es positivo\")\n",
    "\n",
    "except:\n",
    "  print(\"Error El caracter introducido no es un numero correcto\")"
   ]
  },
  {
   "cell_type": "markdown",
   "metadata": {},
   "source": [
    "#### 7. Escribe un programa que determine si una persona puede conducir o no. La edad mínima para conducir es 18 años. \n"
   ]
  },
  {
   "cell_type": "code",
   "execution_count": 7,
   "metadata": {},
   "outputs": [
    {
     "name": "stdout",
     "output_type": "stream",
     "text": [
      "La persona puede conducir (si tiene carnet de conducir claro...)\n"
     ]
    }
   ],
   "source": [
    "edadInput = input(\"Por favor, introduce la edad a comprobar si una persona puede conducir\")\n",
    "\n",
    "try:\n",
    "    if int(edadInput) >= 18:\n",
    "        print(f\"La persona puede conducir (si tiene carnet de conducir claro...)\")\n",
    "    elif int(edadInput) >= 0 and int(edadInput) <=17:\n",
    "        print(f\"la persona no puede conducir\")\n",
    "    else:\n",
    "        print(f\"nadie puede tener una edad negativa\")\n",
    "\n",
    "except:\n",
    "  print(\"Error El caracter introducido no es un numero correcto\")"
   ]
  },
  {
   "cell_type": "markdown",
   "metadata": {},
   "source": [
    "#### 8. Escribe un programa que determine si un estudiante aprobó o suspendió un examen."
   ]
  },
  {
   "cell_type": "code",
   "execution_count": 8,
   "metadata": {},
   "outputs": [
    {
     "name": "stdout",
     "output_type": "stream",
     "text": [
      "examen aprobado\n"
     ]
    }
   ],
   "source": [
    "notaInput = input(\"Por favor, introduce la nota a comprobar, soporta decimales (ejemplo 4.9)\")\n",
    "\n",
    "try:\n",
    "    if float(notaInput) >= 5 and float(notaInput) <=10:\n",
    "        print(f\"examen aprobado\")\n",
    "    elif float(notaInput) >= 0 and float(notaInput) < 5:\n",
    "        print(f\"examen suspendido\")\n",
    "    else:\n",
    "        print(f\"rango no valido 1-10\")\n",
    "\n",
    "except:\n",
    "  print(\"Error El caracter introducido no es un numero correcto\")"
   ]
  },
  {
   "cell_type": "markdown",
   "metadata": {},
   "source": [
    "#### 9. Escribe un programa que determine si un número es múltiplo de 3 y 5.\n"
   ]
  },
  {
   "cell_type": "code",
   "execution_count": 9,
   "metadata": {},
   "outputs": [
    {
     "name": "stdout",
     "output_type": "stream",
     "text": [
      "El numero es multiplo de 3 y 5\n"
     ]
    }
   ],
   "source": [
    "numeroInput = input(\"Por favor, ingresa un numero para determinar si es multiplo de 3 y 5: \")\n",
    "\n",
    "try:\n",
    "    if int(numeroInput) % 3 == 0 and int(numeroInput) % 5 == 0:\n",
    "        print(f\"El numero es multiplo de 3 y 5\")\n",
    "    else:\n",
    "        print(f\"El numero no es multiplo de 3 ó 5\")\n",
    "\n",
    "except:\n",
    "  print(\"El caracter introducido no es numerico\")"
   ]
  },
  {
   "cell_type": "markdown",
   "metadata": {},
   "source": [
    "#### 10. Escribe un programa que determine si un número es par o impar.\n"
   ]
  },
  {
   "cell_type": "code",
   "execution_count": 10,
   "metadata": {},
   "outputs": [
    {
     "name": "stdout",
     "output_type": "stream",
     "text": [
      "El numero es par\n"
     ]
    }
   ],
   "source": [
    "numeroInput = input(\"Por favor, ingresa un numero para determinar si es par o no: \")\n",
    "\n",
    "try:\n",
    "    if int(numeroInput) % 2 == 0:\n",
    "        print(f\"El numero es par\")\n",
    "    else:\n",
    "        print(f\"El numero es Impar\")\n",
    "\n",
    "except:\n",
    "  print(\"El caracter introducido no es numerico\")"
   ]
  }
 ],
 "metadata": {
  "kernelspec": {
   "display_name": "hackio",
   "language": "python",
   "name": "python3"
  },
  "language_info": {
   "codemirror_mode": {
    "name": "ipython",
    "version": 3
   },
   "file_extension": ".py",
   "mimetype": "text/x-python",
   "name": "python",
   "nbconvert_exporter": "python",
   "pygments_lexer": "ipython3",
   "version": "3.12.5"
  }
 },
 "nbformat": 4,
 "nbformat_minor": 2
}
