{
 "cells": [
  {
   "cell_type": "markdown",
   "metadata": {},
   "source": [
    "<div style=\"text-align: center;\">\n",
    "  <img src=\"https://github.com/Hack-io-Data/Imagenes/blob/main/01-LogosHackio/logo_celeste@4x.png?raw=true\" alt=\"logo hack(io)\" />\n",
    "</div>"
   ]
  },
  {
   "cell_type": "markdown",
   "metadata": {},
   "source": [
    "####  1. Genera una lista de números del 0 al 4 y luego imprime cada número en la lista usando un `bucle for`. "
   ]
  },
  {
   "cell_type": "code",
   "execution_count": 1,
   "metadata": {},
   "outputs": [
    {
     "name": "stdout",
     "output_type": "stream",
     "text": [
      "estamos accediendo al elemento: 0\n",
      "estamos accediendo al elemento: 1\n",
      "estamos accediendo al elemento: 2\n",
      "estamos accediendo al elemento: 3\n",
      "estamos accediendo al elemento: 4\n"
     ]
    }
   ],
   "source": [
    "numeros = [0,1,2,3,4]\n",
    "for numero in numeros:\n",
    "    print(f\"estamos accediendo al elemento: {numero}\")"
   ]
  },
  {
   "cell_type": "markdown",
   "metadata": {},
   "source": [
    "#### 2. Itera sobre una lista de frutas y muestra cada fruta en mayúsculas. \n"
   ]
  },
  {
   "cell_type": "code",
   "execution_count": 2,
   "metadata": {},
   "outputs": [
    {
     "name": "stdout",
     "output_type": "stream",
     "text": [
      "estamos accediendo al elemento: PERA\n",
      "estamos accediendo al elemento: MANZANA\n",
      "estamos accediendo al elemento: PLATANO\n"
     ]
    }
   ],
   "source": [
    "frutas = [\"pera\",\"manzana\",\"platano\"]\n",
    "for fruta in frutas:\n",
    "    print(f\"estamos accediendo al elemento: {fruta.upper()}\")"
   ]
  },
  {
   "cell_type": "markdown",
   "metadata": {},
   "source": [
    "####  3. Genera un bucle while que imprima los números del 0 al 4. \n"
   ]
  },
  {
   "cell_type": "code",
   "execution_count": 3,
   "metadata": {},
   "outputs": [
    {
     "name": "stdout",
     "output_type": "stream",
     "text": [
      "0\n",
      "1\n",
      "2\n",
      "3\n",
      "4\n"
     ]
    }
   ],
   "source": [
    "numero = 0\n",
    "\n",
    "while numero >= 0 and numero <=4:\n",
    "    print(numero)\n",
    "    numero +=1"
   ]
  },
  {
   "cell_type": "markdown",
   "metadata": {},
   "source": [
    "#### 4. Genera un bucle del 0 al 9, pero que se detenga en el 5.\n"
   ]
  },
  {
   "cell_type": "code",
   "execution_count": 4,
   "metadata": {},
   "outputs": [
    {
     "name": "stdout",
     "output_type": "stream",
     "text": [
      "0\n",
      "1\n",
      "2\n",
      "3\n",
      "4\n",
      "5\n"
     ]
    }
   ],
   "source": [
    "\n",
    "for x in range(0,10):\n",
    "    print(x)\n",
    "    if x == 5:\n",
    "        break"
   ]
  },
  {
   "cell_type": "markdown",
   "metadata": {},
   "source": [
    "#### 5. Recorre los números del 0 al 9 e imprime solo los números impares."
   ]
  },
  {
   "cell_type": "code",
   "execution_count": 19,
   "metadata": {},
   "outputs": [
    {
     "name": "stdout",
     "output_type": "stream",
     "text": [
      "1\n",
      "3\n",
      "5\n",
      "7\n",
      "9\n"
     ]
    }
   ],
   "source": [
    "for x in range(0,10):\n",
    "    if x % 2 != 0:\n",
    "        print(x)"
   ]
  },
  {
   "cell_type": "markdown",
   "metadata": {},
   "source": [
    "#### 6. Dada la lista `[10, 20, 30, 40, 50]`, calcula la suma de todos los elementos usando un bucle `for`."
   ]
  },
  {
   "cell_type": "code",
   "execution_count": 20,
   "metadata": {},
   "outputs": [
    {
     "name": "stdout",
     "output_type": "stream",
     "text": [
      "el valor de la suma es: 150\n"
     ]
    }
   ],
   "source": [
    "listaNum = [10, 20, 30, 40, 50]\n",
    "sumatorio = 0\n",
    "for x in listaNum:\n",
    "    sumatorio = sumatorio + x\n",
    "\n",
    "print(f\"el valor de la suma es:\" , sumatorio)\n"
   ]
  },
  {
   "cell_type": "markdown",
   "metadata": {},
   "source": [
    "#### 7. Dada la cadena `\"Hola mundo\"`, cuenta cuántas veces aparecen las vocales (`a`, `e`, `i`, `o`, `u`) usando un bucle `for`.\n"
   ]
  },
  {
   "cell_type": "code",
   "execution_count": 21,
   "metadata": {},
   "outputs": [
    {
     "name": "stdout",
     "output_type": "stream",
     "text": [
      "Contadores: {'veces_a': 1, 'veces_e': 0, 'veces_i': 0, 'veces_o': 2, 'veces_u': 1}\n"
     ]
    }
   ],
   "source": [
    "cadena = \"Hola mundo\"\n",
    "\n",
    "vecesDic = {\n",
    "    \"veces_a\": 0,\n",
    "    \"veces_e\": 0,\n",
    "    \"veces_i\": 0,\n",
    "    \"veces_o\": 0,\n",
    "    \"veces_u\": 0,\n",
    "}\n",
    "\n",
    "for x in cadena:\n",
    "    if (x == 'a'):\n",
    "        vecesDic[\"veces_a\"] += 1\n",
    "    elif (x == 'e'):\n",
    "        vecesDic[\"veces_e\"] += 1\n",
    "    elif (x == 'i'):\n",
    "        vecesDic[\"veces_i\"] += 1\n",
    "    elif (x == 'o'):\n",
    "        vecesDic[\"veces_o\"] += 1\n",
    "    elif (x == 'u'):\n",
    "        vecesDic[\"veces_u\"] += 1\n",
    "\n",
    "print(f\"Contadores:\" , vecesDic)"
   ]
  },
  {
   "cell_type": "markdown",
   "metadata": {},
   "source": [
    "#### 8. Dada la cadena `\"Python\"`, usa un bucle `for` para imprimir los caracteres en orden inverso (`n`, `o`, `h`, `t`, `y`, `P`).\n"
   ]
  },
  {
   "cell_type": "code",
   "execution_count": 22,
   "metadata": {},
   "outputs": [
    {
     "name": "stdout",
     "output_type": "stream",
     "text": [
      "['n', 'o', 'h', 't', 'y', 'P']\n"
     ]
    }
   ],
   "source": [
    "\n",
    "cadena = \"Python\"\n",
    "size = len(cadena)\n",
    "value_init = ''\n",
    "reverso = [value_init] * size\n",
    "\n",
    "for x in cadena:\n",
    "    size +=-1\n",
    "    reverso[size]=x\n",
    "  \n",
    "print(reverso)\n"
   ]
  },
  {
   "cell_type": "markdown",
   "metadata": {},
   "source": [
    "#### 9. Dada la lista `[1, 2, 3, 4, 5]`, multiplica todos sus elementos usando un bucle `for` y almacena los resultados en una lista nueva. \n"
   ]
  },
  {
   "cell_type": "code",
   "execution_count": 23,
   "metadata": {},
   "outputs": [
    {
     "name": "stdout",
     "output_type": "stream",
     "text": [
      "el valor de la multiplicacion es: [1, 2, 6, 24, 120]\n"
     ]
    }
   ],
   "source": [
    "listaNum = [1, 2, 3, 4, 5]\n",
    "listaResul = []\n",
    "multiplicacion = 1\n",
    "for x in listaNum:\n",
    "    multiplicacion = multiplicacion * x\n",
    "    listaResul.append(multiplicacion)\n",
    "\n",
    "print(f\"el valor de la multiplicacion es:\" , listaResul)"
   ]
  },
  {
   "cell_type": "markdown",
   "metadata": {},
   "source": [
    "#### 10. Dada la lista `[1, 2, 3, 4, 5, 6, 7, 8, 9, 10]`, utiliza un bucle `for` para contar cuántos números son pares y cuántos son impares."
   ]
  },
  {
   "cell_type": "code",
   "execution_count": 24,
   "metadata": {},
   "outputs": [
    {
     "name": "stdout",
     "output_type": "stream",
     "text": [
      "numeros pares 5, numero de impares 5\n"
     ]
    }
   ],
   "source": [
    "listaNum = [1, 2, 3, 4, 5, 6, 7, 8, 9, 10]\n",
    "cont_pares = 0\n",
    "cont_impares = 0\n",
    "\n",
    "for x in listaNum:\n",
    "    if x % 2 == 0:\n",
    "        cont_pares += 1\n",
    "    else:\n",
    "        cont_impares +=1\n",
    "\n",
    "print(f\"numeros pares {cont_pares}, numero de impares {cont_impares}\")\n",
    "\n"
   ]
  },
  {
   "cell_type": "markdown",
   "metadata": {},
   "source": [
    "#### 11. Escribe un programa que solicite al usuario un número entero positivo (`n`) y calcule la suma de todos los números primos menores o iguales a `n`. Utiliza un bucle `for` para iterar sobre cada número y verifica si es primo."
   ]
  },
  {
   "cell_type": "code",
   "execution_count": 25,
   "metadata": {},
   "outputs": [
    {
     "name": "stdout",
     "output_type": "stream",
     "text": [
      "10\n"
     ]
    }
   ],
   "source": [
    "def es_primo(n):\n",
    "  for i in range(2,n):\n",
    "    if (n%i) == 0:\n",
    "      return False\n",
    "  return True\n",
    "\n",
    "try:\n",
    "  numeroInput = input(\"Por favor, ingresa un numero para determinar la suma de todos los numeros primos menores a el: \")\n",
    "  sumTotalPrimos = 0\n",
    "\n",
    "  if int(numeroInput) > 0:\n",
    "          for x in range(2, int(numeroInput)+1):\n",
    "              result = es_primo(x)\n",
    "              if result:\n",
    "                sumTotalPrimos += x \n",
    "\n",
    "  else:\n",
    "      print(f\"Debe ser un numero entero positivo\")\n",
    "\n",
    "  print(sumTotalPrimos)\n",
    "except:\n",
    "  print(\"El caracter introducido no es numerico\")\n"
   ]
  },
  {
   "cell_type": "markdown",
   "metadata": {},
   "source": [
    "#### 12. Escribe un programa que solicite al usuario un número entero positivo (`n`) y luego imprima un patrón de asteriscos como el siguiente ejemplo para `n = 5`:\n",
    "```\n",
    "*\n",
    "**\n",
    "***\n",
    "****\n",
    "*****\n",
    "```\n",
    "Utiliza un bucle `for` anidado para controlar la cantidad de asteriscos en cada línea."
   ]
  },
  {
   "cell_type": "code",
   "execution_count": 26,
   "metadata": {},
   "outputs": [
    {
     "name": "stdout",
     "output_type": "stream",
     "text": [
      "*\n",
      "**\n",
      "***\n",
      "****\n",
      "*****\n",
      "******\n"
     ]
    }
   ],
   "source": [
    "try:\n",
    "  numeroInput = input(\"Por favor, ingresa un numero entero positivo para imprimir asteriscos: \")\n",
    "  asteriscos = '*'\n",
    "  if int(numeroInput) > 0:\n",
    "          for x in range(1, int(numeroInput)+1):\n",
    "            print(asteriscos)\n",
    "            asteriscos = asteriscos + '*'\n",
    "\n",
    "  else:\n",
    "      print(f\"Debe ser un numero entero positivo\")\n",
    "\n",
    "except:\n",
    "  print(\"El caracter introducido no es numerico\")"
   ]
  },
  {
   "cell_type": "markdown",
   "metadata": {},
   "source": [
    "#### 13. Dado un texto, utiliza un bucle `for` para contar cuántas veces aparece cada palabra en el texto. Ignora mayúsculas/minúsculas y los signos de puntuación."
   ]
  },
  {
   "cell_type": "code",
   "execution_count": 46,
   "metadata": {},
   "outputs": [
    {
     "name": "stdout",
     "output_type": "stream",
     "text": [
      "{'Lorem': 2, 'Ipsum': 2, 'es': 1, 'simplemente': 1, 'el': 2, 'texto': 3, 'de': 4, 'relleno': 2, 'las': 1, 'imprentas': 1, 'y': 1, 'archivos': 1, 'ha': 1, 'sido': 1, 'estándar': 1}\n"
     ]
    }
   ],
   "source": [
    "import unicodedata\n",
    "\n",
    "def remove_non_ascii_normalized(string: str) -> str:\n",
    "    normalized = unicodedata.normalize('NFD', string)\n",
    "    return normalized.encode('ascii', 'ignore').decode('utf8').casefold()\n",
    "\n",
    "texto = \"Lorem Ipsum es simplemente el texto de relleno de las imprentas y archivos de texto Lorem Ipsum ha sido el texto de relleno estándar\"\n",
    "\n",
    "separado = texto.split()\n",
    "\n",
    "vecesPalabras = {}\n",
    "\n",
    "for x in separado:\n",
    "    vecesPalabras[x] = 0\n",
    "    for i in separado:\n",
    "        if remove_non_ascii_normalized(x) == remove_non_ascii_normalized(i):\n",
    "            vecesPalabras[x] += 1\n",
    "   # print(f\"la palabra: {remove_non_ascii_normalized(x)} aparece {contador_palabras} vez/veces\")\n",
    "\n",
    "print(vecesPalabras)"
   ]
  },
  {
   "cell_type": "markdown",
   "metadata": {},
   "source": [
    "#### 14. Escribe un programa que solicite al usuario dos números enteros positivos (`inicio` y `fin`, donde `inicio <= fin`) y luego calcule la suma de los números pares y la suma de los números impares en ese rango. Utiliza un bucle `for` para iterar sobre cada número y una estructura `if-else` para clasificar y sumar los números pares e impares."
   ]
  },
  {
   "cell_type": "code",
   "execution_count": 47,
   "metadata": {},
   "outputs": [
    {
     "name": "stdout",
     "output_type": "stream",
     "text": [
      "Numero inicio: 1, numero fin: 6\n",
      "suma pares: 12, suma de impares: 9\n"
     ]
    }
   ],
   "source": [
    "try:\n",
    "    inicio = input(\"Por favor, ingresa el primer numero entero positivo: \")\n",
    "    fin = input(\"Por favor, ingresa el segundo numero entero positivo: (debe ser mayor que el primero)\")\n",
    "\n",
    "    sum_pares = 0\n",
    "    sum_impares = 0\n",
    "    if int(inicio) > 0 and int(fin) > 0:\n",
    "        if inicio <= fin:\n",
    "            for x in range(int(inicio), int(fin)+1):\n",
    "                if x % 2 == 0:\n",
    "                    sum_pares += x\n",
    "                else:\n",
    "                    sum_impares += x\n",
    "        else:\n",
    "            print(f\"el segundo numero debe ser igual o mayor al primero\")\n",
    "\n",
    "        print(f\"Numero inicio: {inicio}, numero fin: {fin}\")\n",
    "        print(f\"suma pares: {sum_pares}, suma de impares: {sum_impares}\")\n",
    "    else:\n",
    "        print(f\"todos los numeros deben ser positivos\")\n",
    "except:\n",
    "    print(f\"Error caracteres incorrectos\")"
   ]
  },
  {
   "cell_type": "markdown",
   "metadata": {},
   "source": [
    "#### 15. Escribe un programa que solicite al usuario un número entero positivo (`n`) y luego identifique todos los números primos menores o iguales a `n`. Para cada número, imprime si es primo o no usando un bucle `for` y una estructura `if-else` para verificar la condición de primalidad."
   ]
  },
  {
   "cell_type": "code",
   "execution_count": 48,
   "metadata": {},
   "outputs": [
    {
     "name": "stdout",
     "output_type": "stream",
     "text": [
      "0 NO es primo\n",
      "1 NO es primo\n",
      "2 SI es primo\n",
      "3 SI es primo\n",
      "4 NO es primo\n",
      "5 SI es primo\n",
      "6 NO es primo\n"
     ]
    }
   ],
   "source": [
    "def es_primo(n):\n",
    "  for i in range(2,n):\n",
    "    if (n%i) == 0:\n",
    "      return False\n",
    "  return True\n",
    "\n",
    "try:\n",
    "  numeroInput = input(\"Por favor, ingresa un numero para determinar los numeros primos menores a el: \")\n",
    "\n",
    "  if int(numeroInput) > 0:\n",
    "          \n",
    "          #Caso especial el 0 y 1 no son primos\n",
    "          print(f\"0 NO es primo\")\n",
    "          print(f\"1 NO es primo\")\n",
    "\n",
    "          for x in range(2, int(numeroInput)+1):\n",
    "              result = es_primo(x)\n",
    "              if result:\n",
    "                print(f\"{x} SI es primo\")\n",
    "              else:\n",
    "                print(f\"{x} NO es primo\")\n",
    "\n",
    "  else:\n",
    "      print(f\"Debe ser un numero entero positivo\")\n",
    "\n",
    "except:\n",
    "  print(\"El caracter introducido no es numerico\")"
   ]
  },
  {
   "cell_type": "markdown",
   "metadata": {},
   "source": [
    "#### 16.Dada una lista de precios `[100, 200, 300, 400, 500]`, aplica un descuento del 10% a todos los precios mayores a `250`. Imprime la lista actualizada de precios después de aplicar el descuento utilizando un bucle `for`. "
   ]
  },
  {
   "cell_type": "code",
   "execution_count": 49,
   "metadata": {},
   "outputs": [
    {
     "name": "stdout",
     "output_type": "stream",
     "text": [
      "[100, 200, 270.0, 360.0, 450.0]\n"
     ]
    }
   ],
   "source": [
    "listaPrecios = [100, 200, 300, 400, 500]\n",
    "for x in listaPrecios:\n",
    "    if x >= 250:\n",
    "        descuento = x * 10 / 100;\n",
    "        listaPrecios[listaPrecios.index(x)]= x - descuento\n",
    "    \n",
    "print(listaPrecios)"
   ]
  },
  {
   "cell_type": "markdown",
   "metadata": {},
   "source": [
    "#### 17. Dada una lista de calificaciones de estudiantes `[85, 92, 78, 90, 88]`, clasifica a cada estudiante como \"Aprobado\" si la calificación es mayor o igual a `80` y como \"Reprobado\" si es menor a `80`. Imprime el nombre de cada estudiante junto con su estado utilizando un bucle `for` y una estructura `if-else`.\n"
   ]
  },
  {
   "cell_type": "code",
   "execution_count": 50,
   "metadata": {},
   "outputs": [
    {
     "name": "stdout",
     "output_type": "stream",
     "text": [
      "juan Aprobado\n",
      "pepe Aprobado\n",
      "pedro Reprobado\n",
      "victor Aprobado\n",
      "santi Aprobado\n"
     ]
    }
   ],
   "source": [
    "calificaciones = [85, 92, 78, 90, 88]\n",
    "estudiantes = ['juan','pepe','pedro','victor','santi']\n",
    "\n",
    "for indice, x in enumerate(calificaciones):\n",
    "    if x >= 80:\n",
    "        print(estudiantes[indice],\"Aprobado\")\n",
    "    else:\n",
    "        print(estudiantes[indice],\"Reprobado\")"
   ]
  },
  {
   "cell_type": "markdown",
   "metadata": {},
   "source": [
    "\n",
    "#### 18. Escribe un programa que solicite al usuario dos números enteros positivos (`inicio`, `fin`) y otro número entero positivo (`divisor`). Encuentra el número más grande en el rango desde `inicio` hasta `fin` que sea divisible por `divisor`. Utiliza un bucle `for` y una estructura `if-else` para verificar y mantener el registro del número más grande divisible por el divisor dado.\n"
   ]
  },
  {
   "cell_type": "code",
   "execution_count": 51,
   "metadata": {},
   "outputs": [
    {
     "name": "stdout",
     "output_type": "stream",
     "text": [
      "Numero inicio: 1, numero fin: 6, divisible por: 2\n",
      "Numero maximo divisible: 6\n"
     ]
    }
   ],
   "source": [
    "try:\n",
    "    inicio = input(\"Por favor, ingresa el primer numero entero positivo: \")\n",
    "    fin = input(\"Por favor, ingresa el segundo numero entero positivo:\")\n",
    "    divisor = input(\"Por favor, ingresa el numero divisor\")\n",
    "\n",
    "    numMaxDivisble = 0\n",
    "\n",
    "    if int(inicio) > 0 and int(fin) > 0 and int(divisor) > 0:\n",
    "        if inicio <= fin:\n",
    "            for x in range(int(inicio), int(fin)+1):\n",
    "                if x % int(divisor) == 0:\n",
    "                    numMaxDivisble = x\n",
    "        else:\n",
    "            print(f\"el segundo numero debe ser igual o mayor al primero\")\n",
    "\n",
    "        print(f\"Numero inicio: {inicio}, numero fin: {fin}, divisible por: {divisor}\")\n",
    "        print(f\"Numero maximo divisible: {numMaxDivisble}\")\n",
    "    else:\n",
    "        print(f\"todos los numeros deben ser postivos\")\n",
    "except:\n",
    "    print(f\"Error caracteres incorrectos\")"
   ]
  }
 ],
 "metadata": {
  "kernelspec": {
   "display_name": "hackio",
   "language": "python",
   "name": "python3"
  },
  "language_info": {
   "codemirror_mode": {
    "name": "ipython",
    "version": 3
   },
   "file_extension": ".py",
   "mimetype": "text/x-python",
   "name": "python",
   "nbconvert_exporter": "python",
   "pygments_lexer": "ipython3",
   "version": "3.12.5"
  }
 },
 "nbformat": 4,
 "nbformat_minor": 2
}
