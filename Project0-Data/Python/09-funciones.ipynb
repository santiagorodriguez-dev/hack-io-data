{
 "cells": [
  {
   "cell_type": "markdown",
   "metadata": {},
   "source": [
    "\n",
    "<div style=\"text-align: center;\">\n",
    "  <img src=\"https://github.com/Hack-io-Data/Imagenes/blob/main/01-LogosHackio/logo_celeste@4x.png?raw=true\" alt=\"esquema\" />\n",
    "</div>"
   ]
  },
  {
   "cell_type": "markdown",
   "metadata": {},
   "source": [
    "#### 1. Escribe una función sin parámetros que imprima el siguiente mensaje \"¡Hola! Bienvenido.\"\n"
   ]
  },
  {
   "cell_type": "code",
   "execution_count": 1,
   "metadata": {},
   "outputs": [
    {
     "name": "stdout",
     "output_type": "stream",
     "text": [
      "¡Hola! Bienvenido.\n"
     ]
    }
   ],
   "source": [
    "def mensaje_hola():\n",
    "    print(f'¡Hola! Bienvenido.')\n",
    "\n",
    "mensaje_hola()"
   ]
  },
  {
   "cell_type": "markdown",
   "metadata": {},
   "source": [
    "#### 2. Escribe una función que reciba dos parámetros y devuelva la suma de ambos.\n"
   ]
  },
  {
   "cell_type": "code",
   "execution_count": 2,
   "metadata": {},
   "outputs": [
    {
     "name": "stdout",
     "output_type": "stream",
     "text": [
      "El resultado de la función sumar_numeros es: 4\n"
     ]
    }
   ],
   "source": [
    "def sumar_numeros(num1, num2):\n",
    "    return num1 + num2\n",
    "\n",
    "print(f\"El resultado de la función sumar_numeros es: {sumar_numeros(1,3)}\")"
   ]
  },
  {
   "cell_type": "markdown",
   "metadata": {},
   "source": [
    "#### 3. Escribe una función que reciba un número y devuelva True si es par, False si no lo es."
   ]
  },
  {
   "cell_type": "code",
   "execution_count": 4,
   "metadata": {},
   "outputs": [
    {
     "name": "stdout",
     "output_type": "stream",
     "text": [
      "Resultado de func_par_impar: True\n"
     ]
    }
   ],
   "source": [
    "def func_par_impar(num):\n",
    "    if num %2 == 0:\n",
    "        return True\n",
    "    else:\n",
    "        return False\n",
    "\n",
    "print(f\"Resultado de func_par_impar: {func_par_impar(2)}\")"
   ]
  },
  {
   "cell_type": "markdown",
   "metadata": {},
   "source": [
    "#### 4. Escribe un función que devuelva un saludo personalizado a una persona dado su nombre. \n"
   ]
  },
  {
   "cell_type": "code",
   "execution_count": 5,
   "metadata": {},
   "outputs": [
    {
     "name": "stdout",
     "output_type": "stream",
     "text": [
      "¡Hola! Bienvenido: Santi\n"
     ]
    }
   ],
   "source": [
    "def mensaje_hola(nombre):\n",
    "    print(f'¡Hola! Bienvenido: {nombre}')\n",
    "\n",
    "mensaje_hola('Santi')"
   ]
  },
  {
   "cell_type": "markdown",
   "metadata": {},
   "source": [
    "#### 5. Escribe una función que sume todos los números que reciba como argumento. La función debe recibir una cantidad variable de argumentos y devolver la suma de todos ellos."
   ]
  },
  {
   "cell_type": "code",
   "execution_count": 9,
   "metadata": {},
   "outputs": [
    {
     "name": "stdout",
     "output_type": "stream",
     "text": [
      "El resultado de la función sumar_numeros es: 19\n"
     ]
    }
   ],
   "source": [
    "def sumar_numeros_var(numArray):\n",
    "    sumatorio = 0\n",
    "    for x in numArray:\n",
    "        sumatorio += x \n",
    "\n",
    "    return sumatorio\n",
    "\n",
    "inputNumeros = (1,5,6,7)\n",
    "\n",
    "print(f\"El resultado de la función sumar_numeros_var es: {sumar_numeros_var(inputNumeros)}\")"
   ]
  },
  {
   "cell_type": "markdown",
   "metadata": {},
   "source": [
    "#### 6. Escribe una función que cuente las letras de una palabra y devuelva un diccionario con la cantidad de veces que se repite cada letra \n"
   ]
  },
  {
   "cell_type": "code",
   "execution_count": 11,
   "metadata": {},
   "outputs": [
    {
     "name": "stdout",
     "output_type": "stream",
     "text": [
      "El resultado de la función cuenta_letras es: {'P': 2, 'a': 4, 'l': 1, 'b': 2, 'r': 1}\n"
     ]
    }
   ],
   "source": [
    "def cuenta_letras(palabra):\n",
    "\n",
    "    letras_dic = {}\n",
    "\n",
    "    for x in palabra:\n",
    "        cont_letras = 0\n",
    "        for y in palabra:\n",
    "            if x == y:\n",
    "                cont_letras += 1\n",
    "                letras_dic[x] = cont_letras\n",
    "\n",
    "    return letras_dic\n",
    "\n",
    "\n",
    "print(f\"El resultado de la función cuenta_letras es: {cuenta_letras(\"PalabaraPb\")}\")"
   ]
  },
  {
   "cell_type": "markdown",
   "metadata": {},
   "source": [
    "#### 7. Escribe un función recursiva para calcular el factorial de un número entero no negativo."
   ]
  },
  {
   "cell_type": "code",
   "execution_count": 17,
   "metadata": {},
   "outputs": [
    {
     "name": "stdout",
     "output_type": "stream",
     "text": [
      "El resultado de la función fact es: 720\n"
     ]
    }
   ],
   "source": [
    "def fact(n):\n",
    "    if n == 1:\n",
    "        return 1\n",
    "    else:\n",
    "        return n * fact(n-1)\n",
    "    \n",
    "def entradaDatos(input):\n",
    "    if input > 0:\n",
    "        print(f\"El resultado de la función fact es: {fact(input)}\")\n",
    "    else:\n",
    "        print(f\"El numero debe ser entero y positivo\")\n",
    "\n",
    "\n",
    "entradaDatos(6)\n",
    "\n"
   ]
  },
  {
   "cell_type": "markdown",
   "metadata": {},
   "source": [
    "#### 8. Escribe una función que tome dos parámetros: `figura` (una cadena que puede ser `\"rectangulo\"`, `\"circulo\"` o `\"triangulo\"`) y `datos` (una tupla con los datos necesarios para calcular el área de la figura). "
   ]
  },
  {
   "cell_type": "code",
   "execution_count": 23,
   "metadata": {},
   "outputs": [
    {
     "name": "stdout",
     "output_type": "stream",
     "text": [
      "figura de entrada: triangulo\n",
      "datos de entrada: (2, 10)\n",
      "Resultado de datos: 10.0\n"
     ]
    }
   ],
   "source": [
    "def calcula_area_figura(figura,datos):\n",
    "    print(f\"figura de entrada: {figura}\")\n",
    "    print(f\"datos de entrada: {datos}\")\n",
    "    try:\n",
    "        if figura == \"rectangulo\":\n",
    "            # base * altura\n",
    "            return (datos[0] * datos[1])\n",
    "        elif figura == \"circulo\":\n",
    "            pi=3.14\n",
    "            return pi * datos[0] ** 2\n",
    "        elif figura == \"triangulo\":\n",
    "            # base * altura / 2\n",
    "            return (datos[0] * datos[1]) / 2\n",
    "        else:\n",
    "            print(f\"Valores validos: rectangulo, circulo, triangulo\")\n",
    "    except:\n",
    "        print(f\"Error en la introduccion de datos\")\n",
    "\n",
    "datosInput = (2, 10)\n",
    "print(f\"Resultado de datos: {calcula_area_figura(\"triangulo\", datosInput)}\")   "
   ]
  },
  {
   "cell_type": "markdown",
   "metadata": {},
   "source": [
    "#### 9. Escribe una función que tome una lista de números como parámetro y devuelva el número más grande de la lista. No utilices la función `max()` de Python en tu solución."
   ]
  },
  {
   "cell_type": "code",
   "execution_count": 42,
   "metadata": {},
   "outputs": [
    {
     "name": "stdout",
     "output_type": "stream",
     "text": [
      "El resultado de la función numero_max es: 17\n"
     ]
    }
   ],
   "source": [
    "def numero_max(num):\n",
    "    num_max = 0\n",
    "    for y in num:\n",
    "        if int(y) > num_max:\n",
    "            num_max = y\n",
    "\n",
    "    return num_max\n",
    "\n",
    "lista_num = (10,5,1,8,17,1,10,3,4)\n",
    "print(f\"El resultado de la función numero_max es: {numero_max(lista_num)}\")"
   ]
  },
  {
   "cell_type": "markdown",
   "metadata": {},
   "source": [
    "#### 10. Escribe una función que tome una cadena como parámetro un texto y devuelva `True` si la cadena es un palíndromo (se lee igual de izquierda a derecha que de derecha a izquierda), y `False` en caso contrario. Ignora los espacios y considera mayúsculas y minúsculas de manera insensible.\n"
   ]
  },
  {
   "cell_type": "code",
   "execution_count": 45,
   "metadata": {},
   "outputs": [
    {
     "name": "stdout",
     "output_type": "stream",
     "text": [
      "la siguiente frase es palindroma: False\n"
     ]
    }
   ],
   "source": [
    "def es_palindromo(texto):\n",
    "\n",
    "    texto = texto.lower()\n",
    "    texto = texto.replace(' ', '')\n",
    "    longitud = len(texto)\n",
    "    \n",
    "    if longitud % 2 == 0:\n",
    "        izquierda = texto[:longitud // 2]\n",
    "        derecha = texto[longitud // 2:]\n",
    "    else:\n",
    "        izquierda = texto[:longitud // 2]\n",
    "        derecha = texto[longitud // 2 + 1:]\n",
    "    \n",
    "    return izquierda == derecha[::-1]\n",
    "\n",
    "print(f'la siguiente frase es palindroma: {es_palindromo(\"Somos o no somos\")}')"
   ]
  },
  {
   "cell_type": "markdown",
   "metadata": {},
   "source": [
    "#### 11. Escribe una función que tome una cadena como parámetro y devuelva dos valores: la cantidad de vocales y la cantidad de consonantes presentes en la cadena. Ignora los espacios y considera mayúsculas y minúsculas de manera insensible.\n"
   ]
  },
  {
   "cell_type": "code",
   "execution_count": 60,
   "metadata": {},
   "outputs": [
    {
     "name": "stdout",
     "output_type": "stream",
     "text": [
      "Texto de entrada: hola que tal\n",
      "El texto contiene 5 vocales, y 5 consonantes\n"
     ]
    }
   ],
   "source": [
    "\n",
    "def contarLetrasVocales(inputText):\n",
    "    print(f\"Texto de entrada: {inputText}\")\n",
    "    contador=[0,0]\n",
    "    for c in inputText:\n",
    "        if c.lower() in 'aeiou':\n",
    "            contador[0]= contador[0] + 1\n",
    "        elif c.lower() in 'bcdfghjklmnñpqrstvwxyz':\n",
    "            contador[1]= contador[1] + 1\n",
    "        \n",
    "    return contador\n",
    "\n",
    "inputText = \"hola que tal\"\n",
    "resultado = contarLetrasVocales(inputText)\n",
    "\n",
    "print(f'El texto contiene {resultado[0]} vocales, y {resultado[1]} consonantes')"
   ]
  }
 ],
 "metadata": {
  "kernelspec": {
   "display_name": "hackio",
   "language": "python",
   "name": "python3"
  },
  "language_info": {
   "codemirror_mode": {
    "name": "ipython",
    "version": 3
   },
   "file_extension": ".py",
   "mimetype": "text/x-python",
   "name": "python",
   "nbconvert_exporter": "python",
   "pygments_lexer": "ipython3",
   "version": "3.12.5"
  }
 },
 "nbformat": 4,
 "nbformat_minor": 2
}
